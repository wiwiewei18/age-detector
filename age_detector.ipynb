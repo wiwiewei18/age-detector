{
 "cells": [
  {
   "cell_type": "code",
   "execution_count": 7,
   "metadata": {},
   "outputs": [
    {
     "name": "stdout",
     "output_type": "stream",
     "text": [
      "Running on local URL:  http://127.0.0.1:7864\n",
      "\n",
      "To create a public link, set `share=True` in `launch()`.\n"
     ]
    },
    {
     "data": {
      "text/html": [
       "<div><iframe src=\"http://127.0.0.1:7864/\" width=\"100%\" height=\"500\" allow=\"autoplay; camera; microphone; clipboard-read; clipboard-write;\" frameborder=\"0\" allowfullscreen></iframe></div>"
      ],
      "text/plain": [
       "<IPython.core.display.HTML object>"
      ]
     },
     "metadata": {},
     "output_type": "display_data"
    },
    {
     "data": {
      "text/plain": []
     },
     "execution_count": 7,
     "metadata": {},
     "output_type": "execute_result"
    }
   ],
   "source": [
    "import gradio as gr\n",
    "from utils import image_classifier\n",
    "\n",
    "def detect_age(image):\n",
    "    preprocessed_image = image_classifier.preprocess_image(image)\n",
    "    \n",
    "    possibilities = image_classifier.classify(preprocessed_image)\n",
    "    \n",
    "    highest_possibility = max(possibilities, key=lambda x: x['score'])\n",
    "\n",
    "    return f'{highest_possibility[\"label\"]} Y.O. ({(highest_possibility[\"score\"]*100):.2f}%)'\n",
    "\n",
    "interface = gr.Interface(fn=detect_age, inputs=\"image\", outputs=\"text\", title=\"Age Detector\")\n",
    "interface.launch() "
   ]
  }
 ],
 "metadata": {
  "kernelspec": {
   "display_name": "ruang-guru-playground",
   "language": "python",
   "name": "python3"
  },
  "language_info": {
   "codemirror_mode": {
    "name": "ipython",
    "version": 3
   },
   "file_extension": ".py",
   "mimetype": "text/x-python",
   "name": "python",
   "nbconvert_exporter": "python",
   "pygments_lexer": "ipython3",
   "version": "3.12.4"
  }
 },
 "nbformat": 4,
 "nbformat_minor": 2
}
