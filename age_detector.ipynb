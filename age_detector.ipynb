{
 "cells": [
  {
   "cell_type": "markdown",
   "metadata": {},
   "source": [
    "# Age Detector"
   ]
  },
  {
   "cell_type": "markdown",
   "metadata": {},
   "source": [
    "## App"
   ]
  },
  {
   "cell_type": "code",
   "execution_count": 2,
   "metadata": {},
   "outputs": [
    {
     "name": "stdout",
     "output_type": "stream",
     "text": [
      "Running on local URL:  http://127.0.0.1:7861\n",
      "\n",
      "To create a public link, set `share=True` in `launch()`.\n"
     ]
    },
    {
     "data": {
      "text/html": [
       "<div><iframe src=\"http://127.0.0.1:7861/\" width=\"100%\" height=\"500\" allow=\"autoplay; camera; microphone; clipboard-read; clipboard-write;\" frameborder=\"0\" allowfullscreen></iframe></div>"
      ],
      "text/plain": [
       "<IPython.core.display.HTML object>"
      ]
     },
     "metadata": {},
     "output_type": "display_data"
    },
    {
     "data": {
      "text/plain": []
     },
     "execution_count": 2,
     "metadata": {},
     "output_type": "execute_result"
    }
   ],
   "source": [
    "import gradio as gr\n",
    "from utils import image_classifier\n",
    "\n",
    "def detect_age(image):\n",
    "    preprocessed_image = image_classifier.preprocess_image(image)\n",
    "    \n",
    "    possibilities = image_classifier.classify(preprocessed_image)\n",
    "    \n",
    "    highest_possibility = max(possibilities, key=lambda x: x['score'])\n",
    "\n",
    "    return f'{highest_possibility[\"label\"]} Y.O. ({(highest_possibility[\"score\"]*100):.2f}%)'\n",
    "\n",
    "interface = gr.Interface(fn=detect_age, inputs=\"image\", outputs=\"text\", title=\"Age Detector\")\n",
    "interface.launch() "
   ]
  },
  {
   "cell_type": "markdown",
   "metadata": {},
   "source": [
    "## Submission"
   ]
  },
  {
   "cell_type": "code",
   "execution_count": 3,
   "metadata": {},
   "outputs": [
    {
     "data": {
      "text/plain": [
       "'Assignment successfully submitted'"
      ]
     },
     "execution_count": 3,
     "metadata": {},
     "output_type": "execute_result"
    }
   ],
   "source": [
    "from rggrader import submit_image\n",
    "\n",
    "student_id = \"REAINTCZ\"\n",
    "name = \"Wiwie Sanjaya\" \n",
    "drive_link = \"https://github.com/wiwiewei18/age-detector\"  \n",
    "\n",
    "question_id = \"02_image_classification_using_hugging_faces_model_and_gradio\"\n",
    "submit_image(student_id, question_id, './screenshot/gradio_demo_age_detector.png')"
   ]
  }
 ],
 "metadata": {
  "kernelspec": {
   "display_name": "ruang-guru-playground",
   "language": "python",
   "name": "python3"
  },
  "language_info": {
   "codemirror_mode": {
    "name": "ipython",
    "version": 3
   },
   "file_extension": ".py",
   "mimetype": "text/x-python",
   "name": "python",
   "nbconvert_exporter": "python",
   "pygments_lexer": "ipython3",
   "version": "3.12.4"
  }
 },
 "nbformat": 4,
 "nbformat_minor": 2
}
